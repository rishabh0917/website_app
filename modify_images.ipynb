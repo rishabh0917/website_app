{
 "cells": [
  {
   "cell_type": "code",
   "execution_count": 74,
   "id": "48df3bc9-0abd-473e-9996-ccd3b271298a",
   "metadata": {},
   "outputs": [],
   "source": [
    "import matplotlib.pyplot as plt\n",
    "import matplotlib.image as mpimg\n",
    "from PIL import Image\n",
    "import numpy as np\n",
    "import os"
   ]
  },
  {
   "cell_type": "code",
   "execution_count": 85,
   "id": "51e488e8-e990-489e-b67f-8341f6e48cee",
   "metadata": {},
   "outputs": [],
   "source": [
    "for filename in os.listdir('assets/social/'):\n",
    "    img=mpimg.imread(os.path.join('assets/social/', filename))\n",
    "    filtered_img = img[180:320]\n",
    "    random_array = filtered_img * 255\n",
    "    random_array = random_array.astype(np.uint8)\n",
    "    random_image = Image.fromarray(random_array)\n",
    "    random_image\n",
    "    random_image.save(os.path.join('assets/social2/', filename))"
   ]
  },
  {
   "cell_type": "code",
   "execution_count": 76,
   "id": "b3f18187-57b2-48c9-94da-46e829ed2144",
   "metadata": {},
   "outputs": [],
   "source": [
    "# img.shape, type(img)"
   ]
  },
  {
   "cell_type": "code",
   "execution_count": 77,
   "id": "4118a39b-2d94-4837-bf9d-3446835f7790",
   "metadata": {},
   "outputs": [],
   "source": [
    "# plt.imshow(img, interpolation='nearest')\n",
    "# plt.show()"
   ]
  },
  {
   "cell_type": "code",
   "execution_count": 81,
   "id": "3f1ff82a-93cc-42c3-914c-2851b20729c1",
   "metadata": {},
   "outputs": [],
   "source": [
    "# filtered_img = img[200:300]\n",
    "# # plt.imshow(filtered_img, interpolation='nearest')\n",
    "# plt.imshow(filtered_img)\n",
    "# plt.savefig('my.png')\n",
    "# plt.show()"
   ]
  },
  {
   "cell_type": "code",
   "execution_count": 82,
   "id": "14599317-5de7-4c4c-9741-08591695cc97",
   "metadata": {},
   "outputs": [],
   "source": [
    "# img = Image.fromarray(random_array, 'RGB')\n",
    "# img.save('my.png')\n",
    "# img.show()"
   ]
  },
  {
   "cell_type": "code",
   "execution_count": 83,
   "id": "1048bb3c-dee8-4e27-a85b-00780fb8da98",
   "metadata": {},
   "outputs": [],
   "source": [
    "# type(filtered_img)"
   ]
  },
  {
   "cell_type": "code",
   "execution_count": 84,
   "id": "17285dfa-ae26-4a86-9ab2-dbf853c195e1",
   "metadata": {},
   "outputs": [],
   "source": [
    "# random_array = np.random.random_sample(filtered_img.shape) * 255\n"
   ]
  },
  {
   "cell_type": "code",
   "execution_count": null,
   "id": "81c648c5-35e0-4992-95ea-12fe6b348d9f",
   "metadata": {},
   "outputs": [],
   "source": []
  },
  {
   "cell_type": "code",
   "execution_count": null,
   "id": "a194796e-6bc0-4a9d-9944-e3400ed26985",
   "metadata": {},
   "outputs": [],
   "source": []
  }
 ],
 "metadata": {
  "kernelspec": {
   "display_name": "Python 3 (ipykernel)",
   "language": "python",
   "name": "python3"
  },
  "language_info": {
   "codemirror_mode": {
    "name": "ipython",
    "version": 3
   },
   "file_extension": ".py",
   "mimetype": "text/x-python",
   "name": "python",
   "nbconvert_exporter": "python",
   "pygments_lexer": "ipython3",
   "version": "3.9.13"
  }
 },
 "nbformat": 4,
 "nbformat_minor": 5
}
